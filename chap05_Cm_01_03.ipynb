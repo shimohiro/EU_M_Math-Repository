{
  "nbformat": 4,
  "nbformat_minor": 0,
  "metadata": {
    "colab": {
      "provenance": [],
      "mount_file_id": "1s1kAbxSF4D2MWI3DYLxqZd5EincJBxHr",
      "authorship_tag": "ABX9TyOLDWZ74URUbNEaYZWeGNTf",
      "include_colab_link": true
    },
    "kernelspec": {
      "name": "python3",
      "display_name": "Python 3"
    },
    "language_info": {
      "name": "python"
    }
  },
  "cells": [
    {
      "cell_type": "markdown",
      "metadata": {
        "id": "view-in-github",
        "colab_type": "text"
      },
      "source": [
        "<a href=\"https://colab.research.google.com/github/shimohiro/EU_M_Math-Repository/blob/master/chap05_Cm_01_03.ipynb\" target=\"_parent\"><img src=\"https://colab.research.google.com/assets/colab-badge.svg\" alt=\"Open In Colab\"/></a>"
      ]
    },
    {
      "cell_type": "code",
      "execution_count": 2,
      "metadata": {
        "colab": {
          "base_uri": "https://localhost:8080/"
        },
        "id": "2ztls_Y7FZgO",
        "outputId": "c5f5f991-539f-4129-ba52-e0f6d963dea0"
      },
      "outputs": [
        {
          "output_type": "stream",
          "name": "stdout",
          "text": [
            "[-0.051  2.157  2.01   0.098]\n"
          ]
        }
      ],
      "source": [
        "#総合問題5-1\n",
        "import numpy as np\n",
        "import scipy as sp\n",
        "\n",
        "%precision 3\n",
        "\n",
        "A = np.array([[5, 1, 0, 1],\n",
        "              [1, 9, -5, 7],\n",
        "              [0, -5, 8, -3],\n",
        "              [1, 7, -3, 10]])\n",
        "\n",
        "b = np.array([2, 10, 5, 10])\n",
        "\n",
        "L = sp.linalg.cholesky(A)\n",
        "\n",
        "t = sp.linalg.solve(L.T.conj(), b)\n",
        "x = sp.linalg.solve(L, t)\n",
        "\n",
        "print(x)"
      ]
    },
    {
      "cell_type": "code",
      "source": [
        "np.dot(A,x)"
      ],
      "metadata": {
        "colab": {
          "base_uri": "https://localhost:8080/"
        },
        "id": "zlEr_nGUKy9K",
        "outputId": "9d8a4997-7aad-4537-9be8-bac00714e47f"
      },
      "execution_count": 3,
      "outputs": [
        {
          "output_type": "execute_result",
          "data": {
            "text/plain": [
              "array([ 2., 10.,  5., 10.])"
            ]
          },
          "metadata": {},
          "execution_count": 3
        }
      ]
    },
    {
      "cell_type": "code",
      "source": [
        "#総合問題5-2\n",
        "from scipy import integrate\n",
        "import math\n",
        "\n",
        "integrate.dblquad(lambda x, y: 1/(np.sqrt(x+y)*(1+x+y)**2), 0, 1, lambda x: 0, lambda x: 1-x)"
      ],
      "metadata": {
        "colab": {
          "base_uri": "https://localhost:8080/"
        },
        "id": "iGc4VWZdK3Dv",
        "outputId": "e31beeb5-30f7-4420-e02c-3b4614042eaf"
      },
      "execution_count": 4,
      "outputs": [
        {
          "output_type": "execute_result",
          "data": {
            "text/plain": [
              "(0.285, 0.000)"
            ]
          },
          "metadata": {},
          "execution_count": 4
        }
      ]
    },
    {
      "cell_type": "code",
      "source": [
        "#総合問題5-3\n",
        "from scipy.optimize import minimize\n",
        "\n",
        "def func(x):\n",
        "    return x ** 2 + 1\n",
        "\n",
        "def cons(x):\n",
        "    return (x + 1)\n",
        "\n",
        "cons = {'type': 'ineq', 'fun': cons}\n",
        "\n",
        "x = 8\n",
        "\n",
        "res = minimize(func, x, constraints=cons, method='SLSQP')\n",
        "print(res)"
      ],
      "metadata": {
        "colab": {
          "base_uri": "https://localhost:8080/"
        },
        "id": "LEA08ASiMXo9",
        "outputId": "540b1f66-e147-4437-a71d-03988257f219"
      },
      "execution_count": 8,
      "outputs": [
        {
          "output_type": "stream",
          "name": "stdout",
          "text": [
            " message: Optimization terminated successfully\n",
            " success: True\n",
            "  status: 0\n",
            "     fun: 1.0\n",
            "       x: [-6.623e-09]\n",
            "     nit: 3\n",
            "     jac: [ 0.000e+00]\n",
            "    nfev: 6\n",
            "    njev: 3\n"
          ]
        }
      ]
    },
    {
      "cell_type": "code",
      "source": [
        "#確認\n",
        "print('Y:',res.fun)\n",
        "print('x:',res.x)"
      ],
      "metadata": {
        "colab": {
          "base_uri": "https://localhost:8080/"
        },
        "id": "g6HlYLj6OLER",
        "outputId": "d50df9b2-891a-49ce-b079-b947256c7c1f"
      },
      "execution_count": 9,
      "outputs": [
        {
          "output_type": "stream",
          "name": "stdout",
          "text": [
            "Y: 1.0\n",
            "x: [-6.623e-09]\n"
          ]
        }
      ]
    }
  ]
}