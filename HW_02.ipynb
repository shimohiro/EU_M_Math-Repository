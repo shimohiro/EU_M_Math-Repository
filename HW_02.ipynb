{
  "nbformat": 4,
  "nbformat_minor": 0,
  "metadata": {
    "colab": {
      "provenance": [],
      "mount_file_id": "13bvM76fqd1Ax4XXZwyB6q6eQD8kCUiXW",
      "authorship_tag": "ABX9TyOjZbUUft199LSTBkXfyIal",
      "include_colab_link": true
    },
    "kernelspec": {
      "name": "python3",
      "display_name": "Python 3"
    },
    "language_info": {
      "name": "python"
    }
  },
  "cells": [
    {
      "cell_type": "markdown",
      "metadata": {
        "id": "view-in-github",
        "colab_type": "text"
      },
      "source": [
        "<a href=\"https://colab.research.google.com/github/shimohiro/EU_M_Math-Repository/blob/master/HW_02.ipynb\" target=\"_parent\"><img src=\"https://colab.research.google.com/assets/colab-badge.svg\" alt=\"Open In Colab\"/></a>"
      ]
    },
    {
      "cell_type": "markdown",
      "source": [
        "・ラッソとリッジ回帰で用いられる正則化項式のメリットについて\n",
        "リッジ回帰のメリットは、多重共線性の問題を正則化のアプローチによって効果的に緩和できることです。予測変数間の高い相関がある場合でも、リッジ回帰は安定した係数推定を提供し、より信頼性の高い予測を可能にします。また、過学習を防ぐ能力もリッジ回帰の重要な利点です。訓練データに対する過剰な適合を抑制し、未知のデータに対しても一般化された予測を行うことができます。\n",
        "リッジ回路のメリットは、大きな特徴量にペナルティーを与えて重みを調整し、過学習を回避することです。"
      ],
      "metadata": {
        "id": "EhyDfLmtXWhS"
      }
    }
  ]
}