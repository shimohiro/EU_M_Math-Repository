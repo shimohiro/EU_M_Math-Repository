{
  "nbformat": 4,
  "nbformat_minor": 0,
  "metadata": {
    "colab": {
      "provenance": [],
      "mount_file_id": "1rtgteY2VACnYdOJP7zG2O3KmKWDv5q5f",
      "authorship_tag": "ABX9TyN+DhDEoOnVecl3Gyuq1dB1",
      "include_colab_link": true
    },
    "kernelspec": {
      "name": "python3",
      "display_name": "Python 3"
    },
    "language_info": {
      "name": "python"
    }
  },
  "cells": [
    {
      "cell_type": "markdown",
      "metadata": {
        "id": "view-in-github",
        "colab_type": "text"
      },
      "source": [
        "<a href=\"https://colab.research.google.com/github/shimohiro/EU_M_Math-Repository/blob/master/Chap04_Cm_01.ipynb\" target=\"_parent\"><img src=\"https://colab.research.google.com/assets/colab-badge.svg\" alt=\"Open In Colab\"/></a>"
      ]
    },
    {
      "cell_type": "markdown",
      "source": [
        "総合問題4"
      ],
      "metadata": {
        "id": "Uhlrzu3HtX1x"
      }
    },
    {
      "cell_type": "code",
      "execution_count": 1,
      "metadata": {
        "colab": {
          "base_uri": "https://localhost:8080/"
        },
        "id": "jwNfBcWUqEWc",
        "outputId": "dd0ccc30-3a59-464c-a138-64693350d469"
      },
      "outputs": [
        {
          "output_type": "stream",
          "name": "stdout",
          "text": [
            "drive  sample_data\n"
          ]
        }
      ],
      "source": [
        "!ls"
      ]
    },
    {
      "cell_type": "code",
      "source": [
        "mkdir chap4cm"
      ],
      "metadata": {
        "id": "U7g2c1AQqXgo"
      },
      "execution_count": 2,
      "outputs": []
    },
    {
      "cell_type": "code",
      "source": [
        "cd ./chap4cm"
      ],
      "metadata": {
        "colab": {
          "base_uri": "https://localhost:8080/"
        },
        "id": "IhmsjFbkqdGl",
        "outputId": "1a47f214-8558-47c0-f7eb-7678f6cb68c4"
      },
      "execution_count": 3,
      "outputs": [
        {
          "output_type": "stream",
          "name": "stdout",
          "text": [
            "/content/chap4cm\n"
          ]
        }
      ]
    },
    {
      "cell_type": "code",
      "source": [
        "import requests, zipfile\n",
        "from io import StringIO\n",
        "import io\n",
        "\n",
        "url = 'https://archive.ics.uci.edu/ml/machine-learning-databases/00356/student.zip'\n",
        "\n",
        "r = requests.get(url, stream=True)\n",
        "\n",
        "z = zipfile.ZipFile(io.BytesIO(r.content))\n",
        "z.extractall()"
      ],
      "metadata": {
        "id": "3MmPEYb3qhq6"
      },
      "execution_count": 4,
      "outputs": []
    },
    {
      "cell_type": "code",
      "source": [
        "#総合問題4-1\n",
        "import pandas as pd\n",
        "student_data_math = pd.read_csv('student-mat.csv', sep=';')\n",
        "student_data_por = pd.read_csv('student-por.csv', sep=';')\n",
        "student_data_merge = pd.merge(student_data_math\n",
        "                              , student_data_por\n",
        "                              , on=['school', 'sex', 'age', 'address', 'famsize', 'Pstatus', 'Medu'\n",
        "                                      , 'Fedu', 'Mjob', 'Fjob', 'reason', 'nursery', 'internet']\n",
        "                              ,how='inner'\n",
        "                              , suffixes=('_math', '_por'))\n",
        "\n",
        "print('数学の欠席平均：', student_data_merge.absences_math.mean())\n",
        "print('ポルトガル語の欠席平均：', student_data_merge.absences_por.mean())\n",
        "\n",
        "from scipy import stats\n",
        "t, p = stats.ttest_rel(student_data_merge.absences_math, student_data_merge.absences_por)\n",
        "print( 'p値 = ', p)"
      ],
      "metadata": {
        "colab": {
          "base_uri": "https://localhost:8080/"
        },
        "id": "KPv5eR6mq8O1",
        "outputId": "ca7cfbb5-7b28-498f-8c01-0b225dbadd6f"
      },
      "execution_count": 5,
      "outputs": [
        {
          "output_type": "stream",
          "name": "stdout",
          "text": [
            "数学の欠席平均： 5.319371727748691\n",
            "ポルトガル語の欠席平均： 3.6727748691099475\n",
            "p値 =  2.3441656888384195e-06\n"
          ]
        }
      ]
    },
    {
      "cell_type": "code",
      "source": [
        "#総合問題4-2\n",
        "print('数学の勉強平均時間：', student_data_merge.studytime_math.mean())\n",
        "print('ポルトガル語の勉強平均時間：', student_data_merge.studytime_por.mean())\n",
        "\n",
        "t, p = stats.ttest_rel(student_data_merge.studytime_math, student_data_merge.studytime_por)\n",
        "print( 'p値 = ', p)"
      ],
      "metadata": {
        "colab": {
          "base_uri": "https://localhost:8080/"
        },
        "id": "xSiFTtPysiWg",
        "outputId": "e2246c11-5544-4fa1-ca2c-e3bdf80c0515"
      },
      "execution_count": 6,
      "outputs": [
        {
          "output_type": "stream",
          "name": "stdout",
          "text": [
            "数学の勉強平均時間： 2.0340314136125652\n",
            "ポルトガル語の勉強平均時間： 2.0392670157068062\n",
            "p値 =  0.5643842756976525\n"
          ]
        }
      ]
    }
  ]
}