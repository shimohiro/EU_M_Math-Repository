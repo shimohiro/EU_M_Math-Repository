{
  "nbformat": 4,
  "nbformat_minor": 0,
  "metadata": {
    "colab": {
      "provenance": [],
      "gpuType": "T4"
    },
    "kernelspec": {
      "name": "python3",
      "display_name": "Python 3"
    },
    "language_info": {
      "name": "python"
    },
    "accelerator": "GPU"
  },
  "cells": [
    {
      "cell_type": "code",
      "source": [
        "def is_prime(n):\n",
        "  if n <= 1:\n",
        "    return False\n",
        "  for i in range(2, int(n**0.5)+1):\n",
        "    if n % i == 0:\n",
        "      return False\n",
        "\n",
        "  return True\n",
        "\n",
        "# ここからは10までの素数を表示\n",
        "for num in range(2, 11):\n",
        "  if is_prime(num):\n",
        "    print(num)"
      ],
      "metadata": {
        "colab": {
          "base_uri": "https://localhost:8080/"
        },
        "id": "8QVpVxPcH1XP",
        "outputId": "001b9fc2-c0ac-4b40-8c6e-bbbafcd0b3b3"
      },
      "execution_count": null,
      "outputs": [
        {
          "output_type": "stream",
          "name": "stdout",
          "text": [
            "2\n",
            "3\n",
            "5\n",
            "7\n"
          ]
        }
      ]
    },
    {
      "cell_type": "code",
      "source": [
        "def is_prime(N):\n",
        "    if N < 2:\n",
        "        return False\n",
        "    for i in range(2, int(N**0.5)+1):\n",
        "        if N % i == 0:\n",
        "             return False\n",
        "    return True\n",
        "\n",
        "def display_primes(N):\n",
        "      for num in range(2, N + 1):\n",
        "          if is_prime(num):\n",
        "              print(num)\n",
        "\n",
        "\n",
        "  #N = 25　までの場合、25までの素数を表示する。\n",
        "display_primes(25)"
      ],
      "metadata": {
        "colab": {
          "base_uri": "https://localhost:8080/"
        },
        "id": "y9X1Pkn-jG7B",
        "outputId": "f54829b6-3f3e-4efa-8913-631d6d3d1595"
      },
      "execution_count": null,
      "outputs": [
        {
          "output_type": "stream",
          "name": "stdout",
          "text": [
            "2\n",
            "3\n",
            "5\n",
            "7\n",
            "11\n",
            "13\n",
            "17\n",
            "19\n",
            "23\n"
          ]
        }
      ]
    }
  ]
}