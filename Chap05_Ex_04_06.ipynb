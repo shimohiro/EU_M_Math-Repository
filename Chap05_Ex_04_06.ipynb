{
  "nbformat": 4,
  "nbformat_minor": 0,
  "metadata": {
    "colab": {
      "provenance": [],
      "mount_file_id": "15BNx043BWWo3OHeJu89NWzUvLb9FA68V",
      "authorship_tag": "ABX9TyOnG1ltINCIooL1cW8IV5Hf",
      "include_colab_link": true
    },
    "kernelspec": {
      "name": "python3",
      "display_name": "Python 3"
    },
    "language_info": {
      "name": "python"
    }
  },
  "cells": [
    {
      "cell_type": "markdown",
      "metadata": {
        "id": "view-in-github",
        "colab_type": "text"
      },
      "source": [
        "<a href=\"https://colab.research.google.com/github/shimohiro/EU_M_Math-Repository/blob/master/Chap05_Ex_04_06.ipynb\" target=\"_parent\"><img src=\"https://colab.research.google.com/assets/colab-badge.svg\" alt=\"Open In Colab\"/></a>"
      ]
    },
    {
      "cell_type": "code",
      "execution_count": 1,
      "metadata": {
        "colab": {
          "base_uri": "https://localhost:8080/"
        },
        "id": "REGiHDMqWamP",
        "outputId": "ff574694-7c3f-4e4a-dcec-2c8439be3b79"
      },
      "outputs": [
        {
          "output_type": "execute_result",
          "data": {
            "text/plain": [
              "array([[ 0,  1,  2,  3],\n",
              "       [ 4,  5,  6,  7],\n",
              "       [ 8,  9, 10, 11],\n",
              "       [12, 13, 14, 15]])"
            ]
          },
          "metadata": {},
          "execution_count": 1
        }
      ],
      "source": [
        "#練習問題5-4\n",
        "import numpy as np\n",
        "\n",
        "sample_multi_array_data2 = np.arange(16).reshape(4,4)\n",
        "sample_multi_array_data2"
      ]
    },
    {
      "cell_type": "code",
      "source": [
        "#練習問題5-5\n",
        "print('最小値：',sample_multi_array_data2.min())\n",
        "print('最大値：',sample_multi_array_data2.max())\n",
        "print('平均：',sample_multi_array_data2.mean())\n",
        "print('合計：',sample_multi_array_data2.sum())"
      ],
      "metadata": {
        "colab": {
          "base_uri": "https://localhost:8080/"
        },
        "id": "bGlx2bvzW7cX",
        "outputId": "fc963b73-3ea7-4a8a-e0c2-cb5835480a04"
      },
      "execution_count": 2,
      "outputs": [
        {
          "output_type": "stream",
          "name": "stdout",
          "text": [
            "最小値： 0\n",
            "最大値： 15\n",
            "平均： 7.5\n",
            "合計： 120\n"
          ]
        }
      ]
    },
    {
      "cell_type": "code",
      "source": [
        "#練習問題5-6\n",
        "print('対角成分の和：',np.trace(sample_multi_array_data2))"
      ],
      "metadata": {
        "colab": {
          "base_uri": "https://localhost:8080/"
        },
        "id": "vlB-cC2tXSOA",
        "outputId": "e5c09153-e6ee-43d2-a759-dc87c82b33d8"
      },
      "execution_count": 3,
      "outputs": [
        {
          "output_type": "stream",
          "name": "stdout",
          "text": [
            "対角成分の和： 30\n"
          ]
        }
      ]
    }
  ]
}