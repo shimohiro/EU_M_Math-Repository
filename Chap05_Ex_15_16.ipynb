{
  "nbformat": 4,
  "nbformat_minor": 0,
  "metadata": {
    "colab": {
      "provenance": [],
      "mount_file_id": "1Bw6dttPCrfi9JjZqN74J0Fgndw-sxaO0",
      "authorship_tag": "ABX9TyMzOlOVeNOUWvCBhwqBkTwl",
      "include_colab_link": true
    },
    "kernelspec": {
      "name": "python3",
      "display_name": "Python 3"
    },
    "language_info": {
      "name": "python"
    }
  },
  "cells": [
    {
      "cell_type": "markdown",
      "metadata": {
        "id": "view-in-github",
        "colab_type": "text"
      },
      "source": [
        "<a href=\"https://colab.research.google.com/github/shimohiro/EU_M_Math-Repository/blob/master/Chap05_Ex_15_16.ipynb\" target=\"_parent\"><img src=\"https://colab.research.google.com/assets/colab-badge.svg\" alt=\"Open In Colab\"/></a>"
      ]
    },
    {
      "cell_type": "code",
      "execution_count": 2,
      "metadata": {
        "colab": {
          "base_uri": "https://localhost:8080/"
        },
        "id": "ynuURPqgkWk5",
        "outputId": "999ae113-43a4-401a-a0b1-8811cdf68657"
      },
      "outputs": [
        {
          "output_type": "execute_result",
          "data": {
            "text/plain": [
              "(8.667, 0.000)"
            ]
          },
          "metadata": {},
          "execution_count": 2
        }
      ],
      "source": [
        "#練習問題5-15\n",
        "from scipy import integrate\n",
        "import math\n",
        "%precision 3\n",
        "\n",
        "def calcPi(x):\n",
        "    return (x+1)**2\n",
        "\n",
        "integrate.quad(calcPi, 0, 2)"
      ]
    },
    {
      "cell_type": "code",
      "source": [
        "#練習問題5-16\n",
        "import numpy as np\n",
        "from numpy import cos\n",
        "\n",
        "integrate.quad(cos, 0, math.pi)"
      ],
      "metadata": {
        "colab": {
          "base_uri": "https://localhost:8080/"
        },
        "id": "PJLX5tu6l9fT",
        "outputId": "670da5d6-cf93-4b3a-ee3c-0495a4b8878c"
      },
      "execution_count": 4,
      "outputs": [
        {
          "output_type": "execute_result",
          "data": {
            "text/plain": [
              "(0.000, 0.000)"
            ]
          },
          "metadata": {},
          "execution_count": 4
        }
      ]
    }
  ]
}