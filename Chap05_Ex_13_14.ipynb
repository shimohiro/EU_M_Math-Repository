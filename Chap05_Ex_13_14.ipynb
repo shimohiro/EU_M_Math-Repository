{
  "nbformat": 4,
  "nbformat_minor": 0,
  "metadata": {
    "colab": {
      "provenance": [],
      "mount_file_id": "18oEFmFU0s-3vbNDZj-pkK0AOK-UK4EnJ",
      "authorship_tag": "ABX9TyPpqvM2za9QZSxuh5tZ5u3D",
      "include_colab_link": true
    },
    "kernelspec": {
      "name": "python3",
      "display_name": "Python 3"
    },
    "language_info": {
      "name": "python"
    }
  },
  "cells": [
    {
      "cell_type": "markdown",
      "metadata": {
        "id": "view-in-github",
        "colab_type": "text"
      },
      "source": [
        "<a href=\"https://colab.research.google.com/github/shimohiro/EU_M_Math-Repository/blob/master/Chap05_Ex_13_14.ipynb\" target=\"_parent\"><img src=\"https://colab.research.google.com/assets/colab-badge.svg\" alt=\"Open In Colab\"/></a>"
      ]
    },
    {
      "cell_type": "code",
      "execution_count": 1,
      "metadata": {
        "colab": {
          "base_uri": "https://localhost:8080/"
        },
        "id": "IqRyz-bhbZ9G",
        "outputId": "92d6c593-ddba-44dd-d379-22e44c9e84fe"
      },
      "outputs": [
        {
          "output_type": "stream",
          "name": "stdout",
          "text": [
            "U.S.V* = \n",
            " [[ 1.  2.  3.]\n",
            " [ 4.  5.  6.]\n",
            " [ 7.  8.  9.]\n",
            " [10. 11. 12.]]\n"
          ]
        }
      ],
      "source": [
        "#練習問題5-13\n",
        "import numpy as np\n",
        "import scipy as sp\n",
        "\n",
        "B = np.array([[1,2,3],[4,5,6],[7,8,9],[10,11,12]])\n",
        "B\n",
        "\n",
        "U, s, Vs = sp.linalg.svd(B)\n",
        "m, n = B.shape\n",
        "\n",
        "S = sp.linalg.diagsvd(s,m,n)\n",
        "\n",
        "print('U.S.V* = \\n',U@S@Vs)"
      ]
    },
    {
      "cell_type": "code",
      "source": [
        "#練習問題5-14\n",
        "A = np.identity(3)\n",
        "print(A)\n",
        "A[0,:] = 1\n",
        "A[:,0] = 1\n",
        "A[0,0] = 3\n",
        "b = np.ones(3)\n",
        "print(A)\n",
        "print(b)\n",
        "\n",
        "(LU,piv) = sp.linalg.lu_factor(A)\n",
        "L = np.identity(3) + np.tril(LU,-1)\n",
        "U = np.triu(LU)\n",
        "P = np.identity(3)[piv]\n",
        "\n",
        "x = sp.linalg.lu_solve((LU,piv),b)\n",
        "x"
      ],
      "metadata": {
        "colab": {
          "base_uri": "https://localhost:8080/"
        },
        "id": "k-s8z8zZdYrp",
        "outputId": "d67b808a-8a0a-4fea-e5a6-c56fd4d8b567"
      },
      "execution_count": 2,
      "outputs": [
        {
          "output_type": "stream",
          "name": "stdout",
          "text": [
            "[[1. 0. 0.]\n",
            " [0. 1. 0.]\n",
            " [0. 0. 1.]]\n",
            "[[3. 1. 1.]\n",
            " [1. 1. 0.]\n",
            " [1. 0. 1.]]\n",
            "[1. 1. 1.]\n"
          ]
        },
        {
          "output_type": "execute_result",
          "data": {
            "text/plain": [
              "array([-1.,  2.,  2.])"
            ]
          },
          "metadata": {},
          "execution_count": 2
        }
      ]
    },
    {
      "cell_type": "code",
      "source": [
        "np.dot(A,sp.linalg.lu_solve((LU,piv),b))"
      ],
      "metadata": {
        "colab": {
          "base_uri": "https://localhost:8080/"
        },
        "id": "R0mmBxuieYGm",
        "outputId": "5a86aa1d-6a11-4205-c13a-f70379a9a10b"
      },
      "execution_count": 3,
      "outputs": [
        {
          "output_type": "execute_result",
          "data": {
            "text/plain": [
              "array([1., 1., 1.])"
            ]
          },
          "metadata": {},
          "execution_count": 3
        }
      ]
    }
  ]
}