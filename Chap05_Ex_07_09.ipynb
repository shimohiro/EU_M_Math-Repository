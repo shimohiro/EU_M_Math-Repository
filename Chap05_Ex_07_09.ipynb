{
  "nbformat": 4,
  "nbformat_minor": 0,
  "metadata": {
    "colab": {
      "provenance": [],
      "mount_file_id": "1XydpSki4qdVxQ0iy3HShKiCBs8doNoCU",
      "authorship_tag": "ABX9TyPXoTZP5exOpSkb7nHNoYVY",
      "include_colab_link": true
    },
    "kernelspec": {
      "name": "python3",
      "display_name": "Python 3"
    },
    "language_info": {
      "name": "python"
    }
  },
  "cells": [
    {
      "cell_type": "markdown",
      "metadata": {
        "id": "view-in-github",
        "colab_type": "text"
      },
      "source": [
        "<a href=\"https://colab.research.google.com/github/shimohiro/EU_M_Math-Repository/blob/master/Chap05_Ex_07_09.ipynb\" target=\"_parent\"><img src=\"https://colab.research.google.com/assets/colab-badge.svg\" alt=\"Open In Colab\"/></a>"
      ]
    },
    {
      "cell_type": "code",
      "execution_count": 1,
      "metadata": {
        "colab": {
          "base_uri": "https://localhost:8080/"
        },
        "id": "pSpG1iDSihzX",
        "outputId": "45bc6c42-d0b3-4c7d-8452-9e74c678f439"
      },
      "outputs": [
        {
          "output_type": "execute_result",
          "data": {
            "text/plain": [
              "array([[ 0,  1,  2,  3],\n",
              "       [ 4,  5,  6,  7],\n",
              "       [ 8,  9, 10, 11],\n",
              "       [ 0,  1,  2,  3],\n",
              "       [ 4,  5,  6,  7],\n",
              "       [ 8,  9, 10, 11]])"
            ]
          },
          "metadata": {},
          "execution_count": 1
        }
      ],
      "source": [
        "#練習問題5-7\n",
        "import numpy as np\n",
        "\n",
        "sample_array1 = np.arange(12).reshape(3,4)\n",
        "sample_array2 = np.arange(12).reshape(3,4)\n",
        "\n",
        "np.vstack((sample_array1,sample_array2))"
      ]
    },
    {
      "cell_type": "code",
      "source": [
        "#練習問題5-8\n",
        "np.hstack((sample_array1,sample_array2))"
      ],
      "metadata": {
        "colab": {
          "base_uri": "https://localhost:8080/"
        },
        "id": "r3ZaAl_gkLTW",
        "outputId": "e8ffad35-c82b-4062-effe-1eb9004ce237"
      },
      "execution_count": 3,
      "outputs": [
        {
          "output_type": "execute_result",
          "data": {
            "text/plain": [
              "array([[ 0,  1,  2,  3,  0,  1,  2,  3],\n",
              "       [ 4,  5,  6,  7,  4,  5,  6,  7],\n",
              "       [ 8,  9, 10, 11,  8,  9, 10, 11]])"
            ]
          },
          "metadata": {},
          "execution_count": 3
        }
      ]
    },
    {
      "cell_type": "code",
      "source": [
        "#練習問題5-9\n",
        "sample_list = [1,2,3,4,5]\n",
        "\n",
        "np.array(sample_list) + 3"
      ],
      "metadata": {
        "colab": {
          "base_uri": "https://localhost:8080/"
        },
        "id": "BXAhVc5wkeot",
        "outputId": "93446c50-fd36-4fbf-ea96-7a738f5b437c"
      },
      "execution_count": 6,
      "outputs": [
        {
          "output_type": "execute_result",
          "data": {
            "text/plain": [
              "array([4, 5, 6, 7, 8])"
            ]
          },
          "metadata": {},
          "execution_count": 6
        }
      ]
    }
  ]
}