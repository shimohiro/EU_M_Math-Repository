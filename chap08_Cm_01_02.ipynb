{
  "nbformat": 4,
  "nbformat_minor": 0,
  "metadata": {
    "colab": {
      "provenance": [],
      "mount_file_id": "1gOoLTE9UKWnTziAbkBI95L3Uyc7I9w0q",
      "authorship_tag": "ABX9TyMKkI1tmgGOjYacBGnwvoYh",
      "include_colab_link": true
    },
    "kernelspec": {
      "name": "python3",
      "display_name": "Python 3"
    },
    "language_info": {
      "name": "python"
    }
  },
  "cells": [
    {
      "cell_type": "markdown",
      "metadata": {
        "id": "view-in-github",
        "colab_type": "text"
      },
      "source": [
        "<a href=\"https://colab.research.google.com/github/shimohiro/EU_M_Math-Repository/blob/master/chap08_Cm_01_02.ipynb\" target=\"_parent\"><img src=\"https://colab.research.google.com/assets/colab-badge.svg\" alt=\"Open In Colab\"/></a>"
      ]
    },
    {
      "cell_type": "markdown",
      "source": [
        "#総合問題8-1\n",
        "・回帰\n",
        "回帰は機械学習モデルの一般的なタイプの 1 つです。連続する入力値に対する次の値を予測することを指し、結果に対する原因を推測するために、例えば宣伝広告費と来店者数の関係を数字に直して分析する際などに活用できます。原因となる説明変数が一つの場合には単回帰分析、複数になると重回帰分析などと呼び分けます。\n",
        "\n",
        "・分類\n",
        "分類は回帰と同じように次の値を予測できるモデルですが、分析できるデータの性質が異なります。分類の場合は購買行動データから顧客が新商品を「気に入るかどうか」の二択で予測できます。\n",
        "\n",
        "・エントロピー\n",
        "情報量の平均値・期待値のことです。\n",
        "\n",
        "・k-NN法\n",
        "k近傍法(k-nearest neighbor algorithm, k-nn)は機械学習のアルゴリズムの一つです。簡単に説明すると、データをグループ分けするにあたり、対象とするあるデータがどのグループに含まれるかを周囲のデータの多数決で推測するという手法です。\n",
        "\n",
        "・SVM\n",
        "サポートベクターマシン（SVM/Support Vector Machine）とは、機械学習モデルの中でも特に有名なアルゴリズムの1種です。機械学習の種類のうち、「教師あり学習」における「分類」のタスクで主に使用されています。少ない教師データを使ってスピーディな計算が可能で、高い汎化性があることなど使い勝手が良いことなどが特徴です。\n",
        "\n",
        "・ノーフリーランチ\n",
        "NFLは、機械学習に、ある種の理論的な限界が存在することを示しています。NFLは、機械学習に関する応用や理論、さらには「知性」に関する哲学的議論などでもよく参照される示唆に富んだ定理です。"
      ],
      "metadata": {
        "id": "JJplREeVU1Lp"
      }
    },
    {
      "cell_type": "code",
      "execution_count": 5,
      "metadata": {
        "colab": {
          "base_uri": "https://localhost:8080/"
        },
        "id": "5AB9LFw9RneP",
        "outputId": "405cc4b2-c727-4150-ba03-9ad65b16b7d4"
      },
      "outputs": [
        {
          "output_type": "stream",
          "name": "stdout",
          "text": [
            "正解率(train):0.955\n",
            "正解率(test):0.947\n"
          ]
        }
      ],
      "source": [
        "#総合問題8-2\n",
        "from sklearn.datasets import load_iris\n",
        "from sklearn.model_selection import train_test_split\n",
        "from sklearn.ensemble import RandomForestClassifier\n",
        "\n",
        "iris = load_iris()\n",
        "x_train, x_test, y_train, y_test = train_test_split(\n",
        "    iris.data, iris.target, stratify = iris.target, random_state=0)\n",
        "\n",
        "model = RandomForestClassifier(criterion='entropy', max_depth=3, random_state=0)\n",
        "model.fit(x_train,y_train)\n",
        "\n",
        "print('正解率(train):{:.3f}'.format(model.score(x_train, y_train)))\n",
        "print('正解率(test):{:.3f}'.format(model.score(x_test, y_test)))"
      ]
    }
  ]
}